{
 "cells": [
  {
   "cell_type": "markdown",
   "id": "dcebbe0f",
   "metadata": {},
   "source": [
    "## Predicting success of Redit post\n",
    "\n",
    "In this excercise, we want to predict the score of reddit posts, using the labeled data (we assume the score is our target variable).\n",
    "The data has different types of features that need to be handled differently. Due to lack of time and resources, a full analysis is not possible, but I have done a high-level analysis for this purpose.\n",
    "\n",
    "I treat this problem as a Regression problem, where we are trying to predict the score of a Reddit post. We can also group the scores into 5 different buckets, and try to predict the \"bucket\" for each post (i.e. Very Low, Low, Med, High, Very High).\n"
   ]
  },
  {
   "cell_type": "markdown",
   "id": "d72ee9c0",
   "metadata": {},
   "source": [
    "Installing and importing libraries:"
   ]
  },
  {
   "cell_type": "code",
   "execution_count": null,
   "id": "2af67f7d",
   "metadata": {},
   "outputs": [],
   "source": [
    "pip install sentence-transformers"
   ]
  },
  {
   "cell_type": "code",
   "execution_count": 24,
   "id": "5db3233d",
   "metadata": {},
   "outputs": [
    {
     "name": "stdout",
     "output_type": "stream",
     "text": [
      "Collecting tf-keras\n",
      "  Downloading tf_keras-2.18.0-py3-none-any.whl.metadata (1.6 kB)\n",
      "Collecting tensorflow<2.19,>=2.18 (from tf-keras)\n",
      "  Downloading tensorflow-2.18.0-cp311-cp311-win_amd64.whl.metadata (3.3 kB)\n",
      "Collecting tensorflow-intel==2.18.0 (from tensorflow<2.19,>=2.18->tf-keras)\n",
      "  Downloading tensorflow_intel-2.18.0-cp311-cp311-win_amd64.whl.metadata (4.9 kB)\n",
      "Requirement already satisfied: absl-py>=1.0.0 in c:\\users\\alire\\anaconda3\\lib\\site-packages (from tensorflow-intel==2.18.0->tensorflow<2.19,>=2.18->tf-keras) (2.1.0)\n",
      "Requirement already satisfied: astunparse>=1.6.0 in c:\\users\\alire\\anaconda3\\lib\\site-packages (from tensorflow-intel==2.18.0->tensorflow<2.19,>=2.18->tf-keras) (1.6.3)\n",
      "Requirement already satisfied: flatbuffers>=24.3.25 in c:\\users\\alire\\anaconda3\\lib\\site-packages (from tensorflow-intel==2.18.0->tensorflow<2.19,>=2.18->tf-keras) (24.3.25)\n",
      "Requirement already satisfied: gast!=0.5.0,!=0.5.1,!=0.5.2,>=0.2.1 in c:\\users\\alire\\anaconda3\\lib\\site-packages (from tensorflow-intel==2.18.0->tensorflow<2.19,>=2.18->tf-keras) (0.6.0)\n",
      "Requirement already satisfied: google-pasta>=0.1.1 in c:\\users\\alire\\anaconda3\\lib\\site-packages (from tensorflow-intel==2.18.0->tensorflow<2.19,>=2.18->tf-keras) (0.2.0)\n",
      "Requirement already satisfied: libclang>=13.0.0 in c:\\users\\alire\\anaconda3\\lib\\site-packages (from tensorflow-intel==2.18.0->tensorflow<2.19,>=2.18->tf-keras) (18.1.1)\n",
      "Requirement already satisfied: opt-einsum>=2.3.2 in c:\\users\\alire\\anaconda3\\lib\\site-packages (from tensorflow-intel==2.18.0->tensorflow<2.19,>=2.18->tf-keras) (3.3.0)\n",
      "Requirement already satisfied: packaging in c:\\users\\alire\\anaconda3\\lib\\site-packages (from tensorflow-intel==2.18.0->tensorflow<2.19,>=2.18->tf-keras) (23.1)\n",
      "Requirement already satisfied: protobuf!=4.21.0,!=4.21.1,!=4.21.2,!=4.21.3,!=4.21.4,!=4.21.5,<6.0.0dev,>=3.20.3 in c:\\users\\alire\\anaconda3\\lib\\site-packages (from tensorflow-intel==2.18.0->tensorflow<2.19,>=2.18->tf-keras) (3.20.3)\n",
      "Requirement already satisfied: requests<3,>=2.21.0 in c:\\users\\alire\\anaconda3\\lib\\site-packages (from tensorflow-intel==2.18.0->tensorflow<2.19,>=2.18->tf-keras) (2.32.3)\n",
      "Requirement already satisfied: setuptools in c:\\users\\alire\\anaconda3\\lib\\site-packages (from tensorflow-intel==2.18.0->tensorflow<2.19,>=2.18->tf-keras) (68.2.2)\n",
      "Requirement already satisfied: six>=1.12.0 in c:\\users\\alire\\anaconda3\\lib\\site-packages (from tensorflow-intel==2.18.0->tensorflow<2.19,>=2.18->tf-keras) (1.16.0)\n",
      "Requirement already satisfied: termcolor>=1.1.0 in c:\\users\\alire\\anaconda3\\lib\\site-packages (from tensorflow-intel==2.18.0->tensorflow<2.19,>=2.18->tf-keras) (2.4.0)\n",
      "Requirement already satisfied: typing-extensions>=3.6.6 in c:\\users\\alire\\anaconda3\\lib\\site-packages (from tensorflow-intel==2.18.0->tensorflow<2.19,>=2.18->tf-keras) (4.12.2)\n",
      "Requirement already satisfied: wrapt>=1.11.0 in c:\\users\\alire\\anaconda3\\lib\\site-packages (from tensorflow-intel==2.18.0->tensorflow<2.19,>=2.18->tf-keras) (1.14.1)\n",
      "Requirement already satisfied: grpcio<2.0,>=1.24.3 in c:\\users\\alire\\anaconda3\\lib\\site-packages (from tensorflow-intel==2.18.0->tensorflow<2.19,>=2.18->tf-keras) (1.66.1)\n",
      "Collecting tensorboard<2.19,>=2.18 (from tensorflow-intel==2.18.0->tensorflow<2.19,>=2.18->tf-keras)\n",
      "  Downloading tensorboard-2.18.0-py3-none-any.whl.metadata (1.6 kB)\n",
      "Requirement already satisfied: keras>=3.5.0 in c:\\users\\alire\\anaconda3\\lib\\site-packages (from tensorflow-intel==2.18.0->tensorflow<2.19,>=2.18->tf-keras) (3.5.0)\n",
      "Requirement already satisfied: numpy<2.1.0,>=1.26.0 in c:\\users\\alire\\anaconda3\\lib\\site-packages (from tensorflow-intel==2.18.0->tensorflow<2.19,>=2.18->tf-keras) (1.26.4)\n",
      "Requirement already satisfied: h5py>=3.11.0 in c:\\users\\alire\\anaconda3\\lib\\site-packages (from tensorflow-intel==2.18.0->tensorflow<2.19,>=2.18->tf-keras) (3.11.0)\n",
      "Requirement already satisfied: ml-dtypes<0.5.0,>=0.4.0 in c:\\users\\alire\\anaconda3\\lib\\site-packages (from tensorflow-intel==2.18.0->tensorflow<2.19,>=2.18->tf-keras) (0.4.1)\n",
      "Requirement already satisfied: tensorflow-io-gcs-filesystem>=0.23.1 in c:\\users\\alire\\anaconda3\\lib\\site-packages (from tensorflow-intel==2.18.0->tensorflow<2.19,>=2.18->tf-keras) (0.31.0)\n",
      "Requirement already satisfied: wheel<1.0,>=0.23.0 in c:\\users\\alire\\anaconda3\\lib\\site-packages (from astunparse>=1.6.0->tensorflow-intel==2.18.0->tensorflow<2.19,>=2.18->tf-keras) (0.41.2)\n",
      "Requirement already satisfied: rich in c:\\users\\alire\\anaconda3\\lib\\site-packages (from keras>=3.5.0->tensorflow-intel==2.18.0->tensorflow<2.19,>=2.18->tf-keras) (13.3.5)\n",
      "Requirement already satisfied: namex in c:\\users\\alire\\anaconda3\\lib\\site-packages (from keras>=3.5.0->tensorflow-intel==2.18.0->tensorflow<2.19,>=2.18->tf-keras) (0.0.8)\n",
      "Requirement already satisfied: optree in c:\\users\\alire\\anaconda3\\lib\\site-packages (from keras>=3.5.0->tensorflow-intel==2.18.0->tensorflow<2.19,>=2.18->tf-keras) (0.12.1)\n",
      "Requirement already satisfied: charset-normalizer<4,>=2 in c:\\users\\alire\\anaconda3\\lib\\site-packages (from requests<3,>=2.21.0->tensorflow-intel==2.18.0->tensorflow<2.19,>=2.18->tf-keras) (2.0.4)\n",
      "Requirement already satisfied: idna<4,>=2.5 in c:\\users\\alire\\anaconda3\\lib\\site-packages (from requests<3,>=2.21.0->tensorflow-intel==2.18.0->tensorflow<2.19,>=2.18->tf-keras) (3.4)\n",
      "Requirement already satisfied: urllib3<3,>=1.21.1 in c:\\users\\alire\\anaconda3\\lib\\site-packages (from requests<3,>=2.21.0->tensorflow-intel==2.18.0->tensorflow<2.19,>=2.18->tf-keras) (2.0.7)\n",
      "Requirement already satisfied: certifi>=2017.4.17 in c:\\users\\alire\\anaconda3\\lib\\site-packages (from requests<3,>=2.21.0->tensorflow-intel==2.18.0->tensorflow<2.19,>=2.18->tf-keras) (2024.12.14)\n",
      "Requirement already satisfied: markdown>=2.6.8 in c:\\users\\alire\\anaconda3\\lib\\site-packages (from tensorboard<2.19,>=2.18->tensorflow-intel==2.18.0->tensorflow<2.19,>=2.18->tf-keras) (3.4.1)\n",
      "Requirement already satisfied: tensorboard-data-server<0.8.0,>=0.7.0 in c:\\users\\alire\\anaconda3\\lib\\site-packages (from tensorboard<2.19,>=2.18->tensorflow-intel==2.18.0->tensorflow<2.19,>=2.18->tf-keras) (0.7.2)\n",
      "Requirement already satisfied: werkzeug>=1.0.1 in c:\\users\\alire\\anaconda3\\lib\\site-packages (from tensorboard<2.19,>=2.18->tensorflow-intel==2.18.0->tensorflow<2.19,>=2.18->tf-keras) (2.2.3)\n",
      "Requirement already satisfied: MarkupSafe>=2.1.1 in c:\\users\\alire\\anaconda3\\lib\\site-packages (from werkzeug>=1.0.1->tensorboard<2.19,>=2.18->tensorflow-intel==2.18.0->tensorflow<2.19,>=2.18->tf-keras) (2.1.3)\n",
      "Requirement already satisfied: markdown-it-py<3.0.0,>=2.2.0 in c:\\users\\alire\\anaconda3\\lib\\site-packages (from rich->keras>=3.5.0->tensorflow-intel==2.18.0->tensorflow<2.19,>=2.18->tf-keras) (2.2.0)\n",
      "Requirement already satisfied: pygments<3.0.0,>=2.13.0 in c:\\users\\alire\\anaconda3\\lib\\site-packages (from rich->keras>=3.5.0->tensorflow-intel==2.18.0->tensorflow<2.19,>=2.18->tf-keras) (2.15.1)\n",
      "Requirement already satisfied: mdurl~=0.1 in c:\\users\\alire\\anaconda3\\lib\\site-packages (from markdown-it-py<3.0.0,>=2.2.0->rich->keras>=3.5.0->tensorflow-intel==2.18.0->tensorflow<2.19,>=2.18->tf-keras) (0.1.0)\n",
      "Downloading tf_keras-2.18.0-py3-none-any.whl (1.7 MB)\n",
      "   ---------------------------------------- 0.0/1.7 MB ? eta -:--:--\n",
      "   ---------------------------------------- 0.0/1.7 MB ? eta -:--:--\n",
      "   ----- ---------------------------------- 0.2/1.7 MB 2.9 MB/s eta 0:00:01\n",
      "   ------------ --------------------------- 0.5/1.7 MB 3.7 MB/s eta 0:00:01\n",
      "   ------------------ --------------------- 0.8/1.7 MB 5.7 MB/s eta 0:00:01\n",
      "   ---------------------------------------- 1.7/1.7 MB 7.8 MB/s eta 0:00:00\n",
      "Downloading tensorflow-2.18.0-cp311-cp311-win_amd64.whl (7.5 kB)\n",
      "Downloading tensorflow_intel-2.18.0-cp311-cp311-win_amd64.whl (390.2 MB)\n",
      "   ---------------------------------------- 0.0/390.2 MB ? eta -:--:--\n",
      "   ---------------------------------------- 0.7/390.2 MB 47.1 MB/s eta 0:00:09\n",
      "   ---------------------------------------- 1.7/390.2 MB 21.3 MB/s eta 0:00:19\n",
      "   ---------------------------------------- 2.4/390.2 MB 17.2 MB/s eta 0:00:23\n",
      "   ---------------------------------------- 2.7/390.2 MB 19.3 MB/s eta 0:00:21\n",
      "   ---------------------------------------- 3.8/390.2 MB 18.5 MB/s eta 0:00:21\n",
      "   ---------------------------------------- 4.9/390.2 MB 17.3 MB/s eta 0:00:23\n",
      "    --------------------------------------- 5.0/390.2 MB 15.1 MB/s eta 0:00:26\n",
      "    --------------------------------------- 6.1/390.2 MB 17.6 MB/s eta 0:00:22\n",
      "    --------------------------------------- 7.0/390.2 MB 16.6 MB/s eta 0:00:24\n",
      "    --------------------------------------- 7.1/390.2 MB 15.0 MB/s eta 0:00:26\n",
      "    --------------------------------------- 8.1/390.2 MB 16.7 MB/s eta 0:00:23\n",
      "    --------------------------------------- 9.5/390.2 MB 17.3 MB/s eta 0:00:23\n",
      "    --------------------------------------- 9.5/390.2 MB 17.3 MB/s eta 0:00:23\n",
      "   - -------------------------------------- 10.7/390.2 MB 16.0 MB/s eta 0:00:24\n",
      "   - -------------------------------------- 11.9/390.2 MB 18.2 MB/s eta 0:00:21\n",
      "   - -------------------------------------- 13.3/390.2 MB 17.7 MB/s eta 0:00:22\n",
      "   - -------------------------------------- 13.3/390.2 MB 17.7 MB/s eta 0:00:22\n",
      "   - -------------------------------------- 14.6/390.2 MB 18.2 MB/s eta 0:00:21\n",
      "   - -------------------------------------- 16.1/390.2 MB 18.7 MB/s eta 0:00:20\n",
      "   - -------------------------------------- 17.4/390.2 MB 22.6 MB/s eta 0:00:17\n",
      "   - -------------------------------------- 18.8/390.2 MB 22.6 MB/s eta 0:00:17\n",
      "   -- ------------------------------------- 19.9/390.2 MB 24.2 MB/s eta 0:00:16\n",
      "   -- ------------------------------------- 21.1/390.2 MB 25.2 MB/s eta 0:00:15\n",
      "   -- ------------------------------------- 22.3/390.2 MB 27.3 MB/s eta 0:00:14\n",
      "   -- ------------------------------------- 23.5/390.2 MB 24.2 MB/s eta 0:00:16\n",
      "   -- ------------------------------------- 23.6/390.2 MB 27.3 MB/s eta 0:00:14\n",
      "   -- ------------------------------------- 24.3/390.2 MB 24.2 MB/s eta 0:00:16\n",
      "   -- ------------------------------------- 24.8/390.2 MB 21.8 MB/s eta 0:00:17\n",
      "   -- ------------------------------------- 26.0/390.2 MB 21.8 MB/s eta 0:00:17\n",
      "   -- ------------------------------------- 26.9/390.2 MB 21.1 MB/s eta 0:00:18\n",
      "   -- ------------------------------------- 28.4/390.2 MB 21.9 MB/s eta 0:00:17\n",
      "   --- ------------------------------------ 30.4/390.2 MB 24.2 MB/s eta 0:00:15\n",
      "   --- ------------------------------------ 31.5/390.2 MB 22.6 MB/s eta 0:00:16\n",
      "   --- ------------------------------------ 32.7/390.2 MB 24.2 MB/s eta 0:00:15\n",
      "   --- ------------------------------------ 34.5/390.2 MB 28.5 MB/s eta 0:00:13\n",
      "   --- ------------------------------------ 35.7/390.2 MB 29.8 MB/s eta 0:00:12\n",
      "   --- ------------------------------------ 36.6/390.2 MB 31.2 MB/s eta 0:00:12\n",
      "   --- ------------------------------------ 38.4/390.2 MB 29.7 MB/s eta 0:00:12\n",
      "   ---- ----------------------------------- 39.1/390.2 MB 29.7 MB/s eta 0:00:12\n",
      "   ---- ----------------------------------- 40.3/390.2 MB 29.7 MB/s eta 0:00:12\n",
      "   ---- ----------------------------------- 42.6/390.2 MB 29.7 MB/s eta 0:00:12\n",
      "   ---- ----------------------------------- 43.8/390.2 MB 29.7 MB/s eta 0:00:12\n",
      "   ---- ----------------------------------- 45.7/390.2 MB 29.7 MB/s eta 0:00:12\n",
      "   ---- ----------------------------------- 46.8/390.2 MB 34.4 MB/s eta 0:00:10\n",
      "   ----- ---------------------------------- 48.9/390.2 MB 32.7 MB/s eta 0:00:11\n",
      "   ----- ---------------------------------- 50.1/390.2 MB 31.2 MB/s eta 0:00:11\n",
      "   ----- ---------------------------------- 51.1/390.2 MB 34.4 MB/s eta 0:00:10\n",
      "   ----- ---------------------------------- 53.0/390.2 MB 34.4 MB/s eta 0:00:10\n",
      "   ----- ---------------------------------- 55.1/390.2 MB 36.3 MB/s eta 0:00:10\n",
      "   ----- ---------------------------------- 57.0/390.2 MB 34.4 MB/s eta 0:00:10\n",
      "   ------ --------------------------------- 59.2/390.2 MB 43.7 MB/s eta 0:00:08\n",
      "   ------ --------------------------------- 60.0/390.2 MB 34.4 MB/s eta 0:00:10\n",
      "   ------ --------------------------------- 62.1/390.2 MB 36.4 MB/s eta 0:00:10\n",
      "   ------ --------------------------------- 64.3/390.2 MB 36.4 MB/s eta 0:00:09\n",
      "   ------ --------------------------------- 65.5/390.2 MB 36.4 MB/s eta 0:00:09\n",
      "   ------ --------------------------------- 68.0/390.2 MB 36.4 MB/s eta 0:00:09\n",
      "   ------- -------------------------------- 69.3/390.2 MB 31.1 MB/s eta 0:00:11\n",
      "   ------- -------------------------------- 71.6/390.2 MB 40.9 MB/s eta 0:00:08\n",
      "   ------- -------------------------------- 74.9/390.2 MB 46.9 MB/s eta 0:00:07\n",
      "   -------- ------------------------------- 78.3/390.2 MB 50.4 MB/s eta 0:00:07\n",
      "   -------- ------------------------------- 80.7/390.2 MB 65.6 MB/s eta 0:00:05\n",
      "   -------- ------------------------------- 81.7/390.2 MB 54.4 MB/s eta 0:00:06\n",
      "   -------- ------------------------------- 83.6/390.2 MB 54.4 MB/s eta 0:00:06\n",
      "   -------- ------------------------------- 85.4/390.2 MB 46.7 MB/s eta 0:00:07\n",
      "   -------- ------------------------------- 87.7/390.2 MB 34.6 MB/s eta 0:00:09\n",
      "   --------- ------------------------------ 90.6/390.2 MB 34.4 MB/s eta 0:00:09\n",
      "   --------- ------------------------------ 93.6/390.2 MB 40.9 MB/s eta 0:00:08\n",
      "   --------- ------------------------------ 95.7/390.2 MB 43.5 MB/s eta 0:00:07\n",
      "   ---------- ----------------------------- 97.8/390.2 MB 46.7 MB/s eta 0:00:07\n",
      "   ---------- ----------------------------- 99.8/390.2 MB 50.4 MB/s eta 0:00:06\n",
      "   ---------- ---------------------------- 101.6/390.2 MB 46.9 MB/s eta 0:00:07\n",
      "   ---------- ---------------------------- 103.5/390.2 MB 40.9 MB/s eta 0:00:08\n",
      "   ---------- ---------------------------- 105.0/390.2 MB 40.9 MB/s eta 0:00:07\n",
      "   ---------- ---------------------------- 107.0/390.2 MB 38.5 MB/s eta 0:00:08\n",
      "   ---------- ---------------------------- 109.6/390.2 MB 36.4 MB/s eta 0:00:08\n",
      "   ----------- --------------------------- 112.7/390.2 MB 40.9 MB/s eta 0:00:07\n",
      "   ----------- --------------------------- 115.2/390.2 MB 46.7 MB/s eta 0:00:06\n",
      "   ----------- --------------------------- 119.1/390.2 MB 46.7 MB/s eta 0:00:06\n",
      "   ------------ -------------------------- 121.2/390.2 MB 43.7 MB/s eta 0:00:07\n",
      "   ------------ -------------------------- 123.7/390.2 MB 40.9 MB/s eta 0:00:07\n",
      "   ------------ -------------------------- 124.9/390.2 MB 34.4 MB/s eta 0:00:08\n",
      "   ------------ -------------------------- 127.4/390.2 MB 40.9 MB/s eta 0:00:07\n",
      "   ------------- ------------------------- 132.0/390.2 MB 54.7 MB/s eta 0:00:05\n",
      "   ------------- ------------------------- 134.1/390.2 MB 59.5 MB/s eta 0:00:05\n",
      "   ------------- ------------------------- 135.7/390.2 MB 59.5 MB/s eta 0:00:05\n",
      "   ------------- ------------------------- 137.9/390.2 MB 59.5 MB/s eta 0:00:05\n",
      "   ------------- ------------------------- 139.9/390.2 MB 50.4 MB/s eta 0:00:05\n",
      "   -------------- ------------------------ 141.7/390.2 MB 43.5 MB/s eta 0:00:06\n",
      "   -------------- ------------------------ 143.6/390.2 MB 36.3 MB/s eta 0:00:07\n",
      "   -------------- ------------------------ 145.5/390.2 MB 38.5 MB/s eta 0:00:07\n",
      "   -------------- ------------------------ 147.1/390.2 MB 34.4 MB/s eta 0:00:08\n",
      "   --------------- ----------------------- 150.7/390.2 MB 36.3 MB/s eta 0:00:07\n",
      "   --------------- ----------------------- 152.9/390.2 MB 40.9 MB/s eta 0:00:06\n",
      "   --------------- ----------------------- 154.9/390.2 MB 43.7 MB/s eta 0:00:06\n",
      "   --------------- ----------------------- 155.8/390.2 MB 26.2 MB/s eta 0:00:09\n",
      "   --------------- ----------------------- 157.6/390.2 MB 22.6 MB/s eta 0:00:11\n",
      "   --------------- ----------------------- 157.9/390.2 MB 17.3 MB/s eta 0:00:14\n",
      "   --------------- ----------------------- 159.3/390.2 MB 15.2 MB/s eta 0:00:16\n",
      "   ---------------- ---------------------- 163.1/390.2 MB 15.2 MB/s eta 0:00:15\n",
      "   ---------------- ---------------------- 165.5/390.2 MB 15.2 MB/s eta 0:00:15\n",
      "   ---------------- ---------------------- 168.0/390.2 MB 25.2 MB/s eta 0:00:09\n",
      "   ---------------- ---------------------- 169.8/390.2 MB 46.7 MB/s eta 0:00:05\n",
      "   ----------------- --------------------- 172.0/390.2 MB 46.9 MB/s eta 0:00:05\n",
      "   ----------------- --------------------- 176.5/390.2 MB 59.5 MB/s eta 0:00:04\n",
      "   ----------------- --------------------- 178.7/390.2 MB 65.6 MB/s eta 0:00:04\n",
      "   ------------------ -------------------- 180.7/390.2 MB 65.6 MB/s eta 0:00:04\n",
      "   ------------------ -------------------- 181.5/390.2 MB 59.5 MB/s eta 0:00:04\n",
      "   ------------------ -------------------- 184.1/390.2 MB 46.9 MB/s eta 0:00:05\n",
      "   ------------------ -------------------- 185.9/390.2 MB 40.9 MB/s eta 0:00:05\n",
      "   ------------------ -------------------- 186.6/390.2 MB 31.2 MB/s eta 0:00:07\n",
      "   ------------------- ------------------- 190.2/390.2 MB 34.4 MB/s eta 0:00:06\n",
      "   ------------------- ------------------- 192.9/390.2 MB 40.9 MB/s eta 0:00:05\n",
      "   ------------------- ------------------- 194.8/390.2 MB 40.9 MB/s eta 0:00:05\n",
      "   ------------------- ------------------- 196.4/390.2 MB 43.7 MB/s eta 0:00:05\n",
      "   ------------------- ------------------- 198.3/390.2 MB 50.4 MB/s eta 0:00:04\n",
      "   -------------------- ------------------ 200.5/390.2 MB 43.5 MB/s eta 0:00:05\n",
      "   -------------------- ------------------ 202.5/390.2 MB 40.9 MB/s eta 0:00:05\n",
      "   -------------------- ------------------ 204.3/390.2 MB 40.9 MB/s eta 0:00:05\n",
      "   -------------------- ------------------ 206.4/390.2 MB 43.5 MB/s eta 0:00:05\n",
      "   -------------------- ------------------ 208.2/390.2 MB 43.5 MB/s eta 0:00:05\n",
      "   --------------------- ----------------- 210.2/390.2 MB 43.7 MB/s eta 0:00:05\n",
      "   --------------------- ----------------- 212.1/390.2 MB 43.7 MB/s eta 0:00:05\n",
      "   --------------------- ----------------- 212.5/390.2 MB 40.9 MB/s eta 0:00:05\n",
      "   --------------------- ----------------- 214.4/390.2 MB 36.4 MB/s eta 0:00:05\n",
      "   --------------------- ----------------- 216.6/390.2 MB 36.4 MB/s eta 0:00:05\n",
      "   --------------------- ----------------- 218.6/390.2 MB 38.5 MB/s eta 0:00:05\n",
      "   ---------------------- ---------------- 220.7/390.2 MB 38.5 MB/s eta 0:00:05\n",
      "   ---------------------- ---------------- 222.8/390.2 MB 46.7 MB/s eta 0:00:04\n",
      "   ---------------------- ---------------- 224.9/390.2 MB 46.9 MB/s eta 0:00:04\n",
      "   ---------------------- ---------------- 226.9/390.2 MB 46.9 MB/s eta 0:00:04\n",
      "   ---------------------- ---------------- 229.0/390.2 MB 46.7 MB/s eta 0:00:04\n",
      "   ----------------------- --------------- 231.2/390.2 MB 46.7 MB/s eta 0:00:04\n",
      "   ----------------------- --------------- 232.9/390.2 MB 43.7 MB/s eta 0:00:04\n",
      "   ----------------------- --------------- 234.9/390.2 MB 43.5 MB/s eta 0:00:04\n",
      "   ----------------------- --------------- 236.8/390.2 MB 43.5 MB/s eta 0:00:04\n",
      "   ----------------------- --------------- 239.0/390.2 MB 43.5 MB/s eta 0:00:04\n",
      "   ------------------------ -------------- 241.2/390.2 MB 43.7 MB/s eta 0:00:04\n",
      "   ------------------------ -------------- 242.1/390.2 MB 38.6 MB/s eta 0:00:04\n",
      "   ------------------------ -------------- 243.6/390.2 MB 38.6 MB/s eta 0:00:04\n",
      "   ------------------------ -------------- 245.5/390.2 MB 38.5 MB/s eta 0:00:04\n",
      "   ------------------------ -------------- 247.4/390.2 MB 38.5 MB/s eta 0:00:04\n",
      "   ------------------------ -------------- 249.3/390.2 MB 36.4 MB/s eta 0:00:04\n",
      "   ------------------------- ------------- 251.7/390.2 MB 40.9 MB/s eta 0:00:04\n",
      "   ------------------------- ------------- 253.4/390.2 MB 40.9 MB/s eta 0:00:04\n",
      "   ------------------------- ------------- 255.7/390.2 MB 43.7 MB/s eta 0:00:04\n",
      "   ------------------------- ------------- 257.6/390.2 MB 43.7 MB/s eta 0:00:04\n",
      "   ------------------------- ------------- 259.8/390.2 MB 46.7 MB/s eta 0:00:03\n",
      "   -------------------------- ------------ 261.9/390.2 MB 43.7 MB/s eta 0:00:03\n",
      "   -------------------------- ------------ 263.9/390.2 MB 46.7 MB/s eta 0:00:03\n",
      "   -------------------------- ------------ 266.0/390.2 MB 43.5 MB/s eta 0:00:03\n",
      "   -------------------------- ------------ 268.0/390.2 MB 43.5 MB/s eta 0:00:03\n",
      "   --------------------------- ----------- 270.2/390.2 MB 43.5 MB/s eta 0:00:03\n",
      "   --------------------------- ----------- 272.1/390.2 MB 43.7 MB/s eta 0:00:03\n",
      "   --------------------------- ----------- 274.2/390.2 MB 43.7 MB/s eta 0:00:03\n",
      "   --------------------------- ----------- 275.6/390.2 MB 40.9 MB/s eta 0:00:03\n",
      "   --------------------------- ----------- 277.8/390.2 MB 40.9 MB/s eta 0:00:03\n",
      "   --------------------------- ----------- 279.9/390.2 MB 40.9 MB/s eta 0:00:03\n",
      "   ---------------------------- ---------- 282.1/390.2 MB 43.5 MB/s eta 0:00:03\n",
      "   ---------------------------- ---------- 284.2/390.2 MB 43.5 MB/s eta 0:00:03\n",
      "   ---------------------------- ---------- 286.2/390.2 MB 43.5 MB/s eta 0:00:03\n",
      "   ---------------------------- ---------- 288.3/390.2 MB 43.7 MB/s eta 0:00:03\n",
      "   ----------------------------- --------- 290.3/390.2 MB 43.7 MB/s eta 0:00:03\n",
      "   ----------------------------- --------- 292.4/390.2 MB 43.7 MB/s eta 0:00:03\n",
      "   ----------------------------- --------- 294.1/390.2 MB 46.9 MB/s eta 0:00:03\n",
      "   ----------------------------- --------- 296.5/390.2 MB 43.7 MB/s eta 0:00:03\n",
      "   ----------------------------- --------- 298.3/390.2 MB 43.5 MB/s eta 0:00:03\n",
      "   ------------------------------ -------- 300.6/390.2 MB 43.5 MB/s eta 0:00:03\n",
      "   ------------------------------ -------- 302.5/390.2 MB 43.5 MB/s eta 0:00:03\n",
      "   ------------------------------ -------- 304.7/390.2 MB 43.7 MB/s eta 0:00:02\n",
      "   ------------------------------ -------- 306.7/390.2 MB 43.7 MB/s eta 0:00:02\n",
      "   ------------------------------ -------- 308.7/390.2 MB 43.7 MB/s eta 0:00:02\n",
      "   ------------------------------- ------- 310.8/390.2 MB 43.7 MB/s eta 0:00:02\n",
      "   ------------------------------- ------- 312.7/390.2 MB 43.7 MB/s eta 0:00:02\n",
      "   ------------------------------- ------- 314.8/390.2 MB 43.5 MB/s eta 0:00:02\n",
      "   ------------------------------- ------- 316.8/390.2 MB 43.5 MB/s eta 0:00:02\n",
      "   ------------------------------- ------- 319.0/390.2 MB 43.5 MB/s eta 0:00:02\n",
      "   -------------------------------- ------ 320.6/390.2 MB 40.9 MB/s eta 0:00:02\n",
      "   -------------------------------- ------ 323.0/390.2 MB 43.7 MB/s eta 0:00:02\n",
      "   -------------------------------- ------ 324.7/390.2 MB 40.9 MB/s eta 0:00:02\n",
      "   -------------------------------- ------ 326.7/390.2 MB 40.9 MB/s eta 0:00:02\n",
      "   -------------------------------- ------ 328.7/390.2 MB 40.9 MB/s eta 0:00:02\n",
      "   -------------------------------- ------ 329.9/390.2 MB 40.9 MB/s eta 0:00:02\n",
      "   --------------------------------- ----- 331.3/390.2 MB 36.3 MB/s eta 0:00:02\n",
      "   --------------------------------- ----- 333.5/390.2 MB 36.3 MB/s eta 0:00:02\n",
      "   --------------------------------- ----- 335.6/390.2 MB 38.6 MB/s eta 0:00:02\n",
      "   --------------------------------- ----- 337.5/390.2 MB 38.6 MB/s eta 0:00:02\n",
      "   --------------------------------- ----- 339.6/390.2 MB 38.6 MB/s eta 0:00:02\n",
      "   ---------------------------------- ---- 341.6/390.2 MB 43.7 MB/s eta 0:00:02\n",
      "   ---------------------------------- ---- 343.6/390.2 MB 43.7 MB/s eta 0:00:02\n",
      "   ---------------------------------- ---- 345.6/390.2 MB 43.5 MB/s eta 0:00:02\n",
      "   ---------------------------------- ---- 347.7/390.2 MB 43.5 MB/s eta 0:00:01\n",
      "   ---------------------------------- ---- 349.6/390.2 MB 43.5 MB/s eta 0:00:01\n",
      "   ----------------------------------- --- 351.8/390.2 MB 43.7 MB/s eta 0:00:01\n",
      "   ----------------------------------- --- 353.9/390.2 MB 43.7 MB/s eta 0:00:01\n",
      "   ----------------------------------- --- 355.9/390.2 MB 46.7 MB/s eta 0:00:01\n",
      "   ----------------------------------- --- 358.0/390.2 MB 43.7 MB/s eta 0:00:01\n",
      "   ----------------------------------- --- 360.0/390.2 MB 43.7 MB/s eta 0:00:01\n",
      "   ------------------------------------ -- 362.1/390.2 MB 43.5 MB/s eta 0:00:01\n",
      "   ------------------------------------ -- 364.1/390.2 MB 43.5 MB/s eta 0:00:01\n",
      "   ------------------------------------ -- 366.2/390.2 MB 46.7 MB/s eta 0:00:01\n",
      "   ------------------------------------ -- 368.2/390.2 MB 43.7 MB/s eta 0:00:01\n",
      "   ------------------------------------- - 370.4/390.2 MB 46.7 MB/s eta 0:00:01\n",
      "   ------------------------------------- - 372.3/390.2 MB 46.7 MB/s eta 0:00:01\n",
      "   ------------------------------------- - 374.5/390.2 MB 46.9 MB/s eta 0:00:01\n",
      "   ------------------------------------- - 376.6/390.2 MB 46.9 MB/s eta 0:00:01\n",
      "   ------------------------------------- - 378.6/390.2 MB 46.7 MB/s eta 0:00:01\n",
      "   --------------------------------------  380.7/390.2 MB 46.7 MB/s eta 0:00:01\n",
      "   --------------------------------------  382.7/390.2 MB 46.7 MB/s eta 0:00:01\n",
      "   --------------------------------------  384.6/390.2 MB 43.5 MB/s eta 0:00:01\n",
      "   --------------------------------------  386.5/390.2 MB 43.5 MB/s eta 0:00:01\n",
      "   --------------------------------------  388.6/390.2 MB 43.5 MB/s eta 0:00:01\n",
      "   --------------------------------------  390.2/390.2 MB 40.9 MB/s eta 0:00:01\n",
      "   --------------------------------------  390.2/390.2 MB 40.9 MB/s eta 0:00:01\n",
      "   --------------------------------------  390.2/390.2 MB 40.9 MB/s eta 0:00:01\n",
      "   --------------------------------------  390.2/390.2 MB 40.9 MB/s eta 0:00:01\n",
      "   --------------------------------------  390.2/390.2 MB 40.9 MB/s eta 0:00:01\n",
      "   --------------------------------------  390.2/390.2 MB 40.9 MB/s eta 0:00:01\n",
      "   --------------------------------------  390.2/390.2 MB 40.9 MB/s eta 0:00:01\n",
      "   --------------------------------------  390.2/390.2 MB 40.9 MB/s eta 0:00:01\n",
      "   --------------------------------------  390.2/390.2 MB 40.9 MB/s eta 0:00:01\n",
      "   --------------------------------------  390.2/390.2 MB 40.9 MB/s eta 0:00:01\n",
      "   --------------------------------------  390.2/390.2 MB 40.9 MB/s eta 0:00:01\n",
      "   --------------------------------------  390.2/390.2 MB 40.9 MB/s eta 0:00:01\n",
      "   --------------------------------------  390.2/390.2 MB 40.9 MB/s eta 0:00:01\n",
      "   --------------------------------------  390.2/390.2 MB 40.9 MB/s eta 0:00:01\n",
      "   --------------------------------------  390.2/390.2 MB 40.9 MB/s eta 0:00:01\n",
      "   --------------------------------------  390.2/390.2 MB 40.9 MB/s eta 0:00:01\n",
      "   --------------------------------------  390.2/390.2 MB 40.9 MB/s eta 0:00:01\n",
      "   --------------------------------------  390.2/390.2 MB 40.9 MB/s eta 0:00:01\n",
      "   --------------------------------------  390.2/390.2 MB 40.9 MB/s eta 0:00:01\n",
      "   --------------------------------------  390.2/390.2 MB 40.9 MB/s eta 0:00:01\n",
      "   --------------------------------------  390.2/390.2 MB 40.9 MB/s eta 0:00:01\n",
      "   --------------------------------------  390.2/390.2 MB 40.9 MB/s eta 0:00:01\n",
      "   --------------------------------------  390.2/390.2 MB 40.9 MB/s eta 0:00:01\n",
      "   --------------------------------------  390.2/390.2 MB 40.9 MB/s eta 0:00:01\n",
      "   --------------------------------------  390.2/390.2 MB 40.9 MB/s eta 0:00:01\n",
      "   --------------------------------------  390.2/390.2 MB 40.9 MB/s eta 0:00:01\n",
      "   --------------------------------------  390.2/390.2 MB 40.9 MB/s eta 0:00:01\n",
      "   --------------------------------------  390.2/390.2 MB 40.9 MB/s eta 0:00:01\n",
      "   --------------------------------------  390.2/390.2 MB 40.9 MB/s eta 0:00:01\n",
      "   --------------------------------------  390.2/390.2 MB 40.9 MB/s eta 0:00:01\n",
      "   --------------------------------------  390.2/390.2 MB 40.9 MB/s eta 0:00:01\n",
      "   --------------------------------------  390.2/390.2 MB 40.9 MB/s eta 0:00:01\n",
      "   --------------------------------------  390.2/390.2 MB 40.9 MB/s eta 0:00:01\n",
      "   ---------------------------------------- 390.2/390.2 MB 5.6 MB/s eta 0:00:00\n",
      "Downloading tensorboard-2.18.0-py3-none-any.whl (5.5 MB)\n",
      "   ---------------------------------------- 0.0/5.5 MB ? eta -:--:--\n",
      "   ------------ --------------------------- 1.7/5.5 MB 35.7 MB/s eta 0:00:01\n",
      "   --------------------------- ------------ 3.8/5.5 MB 40.5 MB/s eta 0:00:01\n",
      "   ---------------------------------------  5.5/5.5 MB 43.9 MB/s eta 0:00:01\n",
      "   ---------------------------------------- 5.5/5.5 MB 27.1 MB/s eta 0:00:00\n",
      "Installing collected packages: tensorboard, tensorflow-intel, tensorflow, tf-keras\n",
      "  Attempting uninstall: tensorboard\n",
      "    Found existing installation: tensorboard 2.17.1\n",
      "    Uninstalling tensorboard-2.17.1:\n",
      "      Successfully uninstalled tensorboard-2.17.1\n",
      "  Attempting uninstall: tensorflow-intel\n",
      "    Found existing installation: tensorflow-intel 2.17.0\n",
      "    Uninstalling tensorflow-intel-2.17.0:\n",
      "      Successfully uninstalled tensorflow-intel-2.17.0\n",
      "  Attempting uninstall: tensorflow\n",
      "    Found existing installation: tensorflow 2.17.0\n",
      "    Uninstalling tensorflow-2.17.0:\n",
      "      Successfully uninstalled tensorflow-2.17.0\n",
      "Successfully installed tensorboard-2.18.0 tensorflow-2.18.0 tensorflow-intel-2.18.0 tf-keras-2.18.0\n",
      "Note: you may need to restart the kernel to use updated packages.\n"
     ]
    },
    {
     "name": "stderr",
     "output_type": "stream",
     "text": [
      "  WARNING: Failed to remove contents in a temporary directory 'C:\\Users\\alire\\anaconda3\\Lib\\site-packages\\~ensorflow'.\n",
      "  You can safely remove it manually.\n"
     ]
    }
   ],
   "source": [
    "pip install tf-keras"
   ]
  },
  {
   "cell_type": "code",
   "execution_count": null,
   "id": "6dc44f61",
   "metadata": {},
   "outputs": [],
   "source": [
    "python3 -m pip install --upgrade 'optree>=0.13.0'"
   ]
  },
  {
   "cell_type": "code",
   "execution_count": 1,
   "id": "4912fa00",
   "metadata": {},
   "outputs": [
    {
     "name": "stderr",
     "output_type": "stream",
     "text": [
      "C:\\Users\\alire\\anaconda3\\Lib\\site-packages\\torch\\utils\\_pytree.py:185: FutureWarning: optree is installed but the version is too old to support PyTorch Dynamo in C++ pytree. C++ pytree support is disabled. Please consider upgrading optree using `python3 -m pip install --upgrade 'optree>=0.13.0'`.\n",
      "  warnings.warn(\n"
     ]
    },
    {
     "name": "stdout",
     "output_type": "stream",
     "text": [
      "WARNING:tensorflow:From C:\\Users\\alire\\anaconda3\\Lib\\site-packages\\tf_keras\\src\\losses.py:2976: The name tf.losses.sparse_softmax_cross_entropy is deprecated. Please use tf.compat.v1.losses.sparse_softmax_cross_entropy instead.\n",
      "\n"
     ]
    }
   ],
   "source": [
    "import os\n",
    "import numpy as np\n",
    "from numpy import asarray\n",
    "from numpy import savetxt\n",
    "from numpy import loadtxt\n",
    "import pandas as pd\n",
    "# plot\n",
    "import seaborn as sns\n",
    "from pylab import rcParams\n",
    "import matplotlib.pyplot as plt\n",
    "from matplotlib import rc\n",
    "\n",
    "# model\n",
    "from sklearn.model_selection import train_test_split\n",
    "from sklearn.metrics import confusion_matrix, classification_report\n",
    "from sklearn.multiclass import OneVsRestClassifier\n",
    "from sklearn.svm import SVC\n",
    "from sklearn.linear_model import LogisticRegression\n",
    "from sklearn.metrics import classification_report\n",
    "from sklearn.svm import LinearSVC\n",
    "from sklearn.compose import ColumnTransformer\n",
    "from sklearn.preprocessing import StandardScaler, OneHotEncoder\n",
    "from sklearn.pipeline import Pipeline\n",
    "from sklearn.feature_extraction.text import TfidfVectorizer\n",
    "from sklearn.ensemble import RandomForestRegressor\n",
    "from sklearn.metrics import mean_squared_error\n",
    "from sklearn.metrics import mean_absolute_percentage_error\n",
    "\n",
    "\n",
    "# language model - BERT, use sentence transformer\n",
    "from sentence_transformers import SentenceTransformer\n",
    "\n",
    "from sklearn.feature_extraction.text import TfidfVectorizer\n",
    "\n",
    "%matplotlib inline\n",
    "%config InlineBackend.figure_format='retina'\n",
    "sns.set(style='whitegrid', palette='muted', font_scale=1.2)\n",
    "HAPPY_COLORS_PALETTE = [\"#01BEFE\", \"#FFDD00\", \"#FF7D00\", \"#FF006D\", \"#ADFF02\", \"#8F00FF\"]\n",
    "\n",
    "sns.set_palette(sns.color_palette(HAPPY_COLORS_PALETTE))\n",
    "\n",
    "rcParams['figure.figsize'] = 12, 8\n",
    "\n",
    "RANDOM_SEED = 42\n",
    "np.random.seed(RANDOM_SEED)"
   ]
  },
  {
   "cell_type": "code",
   "execution_count": 86,
   "id": "2cc5e2c8",
   "metadata": {},
   "outputs": [
    {
     "data": {
      "text/html": [
       "<div>\n",
       "<style scoped>\n",
       "    .dataframe tbody tr th:only-of-type {\n",
       "        vertical-align: middle;\n",
       "    }\n",
       "\n",
       "    .dataframe tbody tr th {\n",
       "        vertical-align: top;\n",
       "    }\n",
       "\n",
       "    .dataframe thead th {\n",
       "        text-align: right;\n",
       "    }\n",
       "</style>\n",
       "<table border=\"1\" class=\"dataframe\">\n",
       "  <thead>\n",
       "    <tr style=\"text-align: right;\">\n",
       "      <th></th>\n",
       "      <th>Unnamed: 0</th>\n",
       "      <th>title</th>\n",
       "      <th>body</th>\n",
       "      <th>tag</th>\n",
       "      <th>datetime</th>\n",
       "      <th>author</th>\n",
       "      <th>score</th>\n",
       "      <th>upvote_ratio</th>\n",
       "      <th>url</th>\n",
       "    </tr>\n",
       "  </thead>\n",
       "  <tbody>\n",
       "    <tr>\n",
       "      <th>0</th>\n",
       "      <td>0</td>\n",
       "      <td>Post viral cough: why does it get worse after ...</td>\n",
       "      <td>Tl;dr: why is your cough during an upper respi...</td>\n",
       "      <td>Human Body</td>\n",
       "      <td>2022-12-09 02:52:07</td>\n",
       "      <td>CarboniferousCreek</td>\n",
       "      <td>1343.0</td>\n",
       "      <td>0.93</td>\n",
       "      <td>https://www.reddit.com/r/askscience/comments/z...</td>\n",
       "    </tr>\n",
       "    <tr>\n",
       "      <th>1</th>\n",
       "      <td>1</td>\n",
       "      <td>Can an x-ray of an adult show chronic malnouri...</td>\n",
       "      <td>If a person was chronically undernourished thr...</td>\n",
       "      <td>Human Body</td>\n",
       "      <td>2022-12-08 18:28:51</td>\n",
       "      <td>Foxs-In-A-Trenchcoat</td>\n",
       "      <td>426.0</td>\n",
       "      <td>0.91</td>\n",
       "      <td>https://www.reddit.com/r/askscience/comments/z...</td>\n",
       "    </tr>\n",
       "    <tr>\n",
       "      <th>2</th>\n",
       "      <td>2</td>\n",
       "      <td>[META] Bots and AI tools on r/askscience</td>\n",
       "      <td>\\n\\nOver the past few days we have seen a sur...</td>\n",
       "      <td>META</td>\n",
       "      <td>2022-12-08 09:04:25</td>\n",
       "      <td>AskScienceModerator</td>\n",
       "      <td>2218.0</td>\n",
       "      <td>0.92</td>\n",
       "      <td>https://www.reddit.com/r/askscience/comments/z...</td>\n",
       "    </tr>\n",
       "    <tr>\n",
       "      <th>3</th>\n",
       "      <td>3</td>\n",
       "      <td>Can you predictably manipulate a magnetic gas?</td>\n",
       "      <td>Does there exist a gas that changes in respons...</td>\n",
       "      <td>Physics</td>\n",
       "      <td>2022-12-08 20:01:53</td>\n",
       "      <td>hufsa7</td>\n",
       "      <td>48.0</td>\n",
       "      <td>0.83</td>\n",
       "      <td>https://www.reddit.com/r/askscience/comments/z...</td>\n",
       "    </tr>\n",
       "    <tr>\n",
       "      <th>4</th>\n",
       "      <td>4</td>\n",
       "      <td>Are there cells in humans (or other mammals) t...</td>\n",
       "      <td>NaN</td>\n",
       "      <td>Medicine</td>\n",
       "      <td>2022-12-09 01:11:34</td>\n",
       "      <td>Velym</td>\n",
       "      <td>14.0</td>\n",
       "      <td>0.89</td>\n",
       "      <td>https://www.reddit.com/r/askscience/comments/z...</td>\n",
       "    </tr>\n",
       "  </tbody>\n",
       "</table>\n",
       "</div>"
      ],
      "text/plain": [
       "   Unnamed: 0                                              title  \\\n",
       "0           0  Post viral cough: why does it get worse after ...   \n",
       "1           1  Can an x-ray of an adult show chronic malnouri...   \n",
       "2           2           [META] Bots and AI tools on r/askscience   \n",
       "3           3     Can you predictably manipulate a magnetic gas?   \n",
       "4           4  Are there cells in humans (or other mammals) t...   \n",
       "\n",
       "                                                body         tag  \\\n",
       "0  Tl;dr: why is your cough during an upper respi...  Human Body   \n",
       "1  If a person was chronically undernourished thr...  Human Body   \n",
       "2   \\n\\nOver the past few days we have seen a sur...        META   \n",
       "3  Does there exist a gas that changes in respons...     Physics   \n",
       "4                                                NaN    Medicine   \n",
       "\n",
       "              datetime                author   score  upvote_ratio  \\\n",
       "0  2022-12-09 02:52:07    CarboniferousCreek  1343.0          0.93   \n",
       "1  2022-12-08 18:28:51  Foxs-In-A-Trenchcoat   426.0          0.91   \n",
       "2  2022-12-08 09:04:25   AskScienceModerator  2218.0          0.92   \n",
       "3  2022-12-08 20:01:53                hufsa7    48.0          0.83   \n",
       "4  2022-12-09 01:11:34                 Velym    14.0          0.89   \n",
       "\n",
       "                                                 url  \n",
       "0  https://www.reddit.com/r/askscience/comments/z...  \n",
       "1  https://www.reddit.com/r/askscience/comments/z...  \n",
       "2  https://www.reddit.com/r/askscience/comments/z...  \n",
       "3  https://www.reddit.com/r/askscience/comments/z...  \n",
       "4  https://www.reddit.com/r/askscience/comments/z...  "
      ]
     },
     "execution_count": 86,
     "metadata": {},
     "output_type": "execute_result"
    }
   ],
   "source": [
    "#Reading the data\n",
    "df=pd.read_csv(\"askscience_data.csv\")\n",
    "df.head()"
   ]
  },
  {
   "cell_type": "markdown",
   "id": "6004347e",
   "metadata": {},
   "source": [
    "Here we can see the data has text, date, score, numerical variable (upvote_ratio), etc. Let's look at attributes of the data:"
   ]
  },
  {
   "cell_type": "code",
   "execution_count": 7,
   "id": "e1917999",
   "metadata": {},
   "outputs": [
    {
     "data": {
      "text/plain": [
       "(4205, 9)"
      ]
     },
     "execution_count": 7,
     "metadata": {},
     "output_type": "execute_result"
    }
   ],
   "source": [
    "df.shape"
   ]
  },
  {
   "cell_type": "code",
   "execution_count": 8,
   "id": "5e81db90",
   "metadata": {},
   "outputs": [
    {
     "name": "stdout",
     "output_type": "stream",
     "text": [
      "<class 'pandas.core.frame.DataFrame'>\n",
      "RangeIndex: 4205 entries, 0 to 4204\n",
      "Data columns (total 9 columns):\n",
      " #   Column        Non-Null Count  Dtype  \n",
      "---  ------        --------------  -----  \n",
      " 0   Unnamed: 0    4205 non-null   int64  \n",
      " 1   title         4205 non-null   object \n",
      " 2   body          2492 non-null   object \n",
      " 3   tag           4011 non-null   object \n",
      " 4   datetime      4205 non-null   object \n",
      " 5   author        4205 non-null   object \n",
      " 6   score         4205 non-null   float64\n",
      " 7   upvote_ratio  4205 non-null   float64\n",
      " 8   url           4205 non-null   object \n",
      "dtypes: float64(2), int64(1), object(6)\n",
      "memory usage: 295.8+ KB\n"
     ]
    }
   ],
   "source": [
    "df.info()"
   ]
  },
  {
   "cell_type": "code",
   "execution_count": 10,
   "id": "7d4a58e6",
   "metadata": {},
   "outputs": [
    {
     "data": {
      "text/plain": [
       "0"
      ]
     },
     "execution_count": 10,
     "metadata": {},
     "output_type": "execute_result"
    }
   ],
   "source": [
    "df['title'].str.isspace().sum() #no titles with spaces"
   ]
  },
  {
   "cell_type": "code",
   "execution_count": 11,
   "id": "7cb98aca",
   "metadata": {},
   "outputs": [
    {
     "data": {
      "text/plain": [
       "2"
      ]
     },
     "execution_count": 11,
     "metadata": {},
     "output_type": "execute_result"
    }
   ],
   "source": [
    "df['body'].str.isspace().sum() #body with spaces"
   ]
  },
  {
   "cell_type": "code",
   "execution_count": 16,
   "id": "828726da",
   "metadata": {},
   "outputs": [
    {
     "data": {
      "text/plain": [
       "1713"
      ]
     },
     "execution_count": 16,
     "metadata": {},
     "output_type": "execute_result"
    }
   ],
   "source": [
    "#Whether there are blank bodies\n",
    "df['body'].isna().sum()"
   ]
  },
  {
   "cell_type": "markdown",
   "id": "c3c08a54",
   "metadata": {},
   "source": [
    "Here we can see that there are 1713 posts where the body of the post is blank (i.e. the post only has a title). There are many ways to treat this issue, such as removing the rows, using titles only for these rows, etc. But here, I will combine the title and the body into a new column called full_text, and will use this new column in the model (so I will not use body and text separately). The cons of this method is that the model may not be able to determine the important of body or text separately."
   ]
  },
  {
   "cell_type": "code",
   "execution_count": 87,
   "id": "099d09e7",
   "metadata": {},
   "outputs": [
    {
     "data": {
      "text/html": [
       "<div>\n",
       "<style scoped>\n",
       "    .dataframe tbody tr th:only-of-type {\n",
       "        vertical-align: middle;\n",
       "    }\n",
       "\n",
       "    .dataframe tbody tr th {\n",
       "        vertical-align: top;\n",
       "    }\n",
       "\n",
       "    .dataframe thead th {\n",
       "        text-align: right;\n",
       "    }\n",
       "</style>\n",
       "<table border=\"1\" class=\"dataframe\">\n",
       "  <thead>\n",
       "    <tr style=\"text-align: right;\">\n",
       "      <th></th>\n",
       "      <th>Unnamed: 0</th>\n",
       "      <th>title</th>\n",
       "      <th>body</th>\n",
       "      <th>tag</th>\n",
       "      <th>datetime</th>\n",
       "      <th>author</th>\n",
       "      <th>score</th>\n",
       "      <th>upvote_ratio</th>\n",
       "      <th>url</th>\n",
       "      <th>full_text</th>\n",
       "    </tr>\n",
       "  </thead>\n",
       "  <tbody>\n",
       "    <tr>\n",
       "      <th>0</th>\n",
       "      <td>0</td>\n",
       "      <td>Post viral cough: why does it get worse after ...</td>\n",
       "      <td>Tl;dr: why is your cough during an upper respi...</td>\n",
       "      <td>Human Body</td>\n",
       "      <td>2022-12-09 02:52:07</td>\n",
       "      <td>CarboniferousCreek</td>\n",
       "      <td>1343.0</td>\n",
       "      <td>0.93</td>\n",
       "      <td>https://www.reddit.com/r/askscience/comments/z...</td>\n",
       "      <td>Post viral cough: why does it get worse after ...</td>\n",
       "    </tr>\n",
       "    <tr>\n",
       "      <th>1</th>\n",
       "      <td>1</td>\n",
       "      <td>Can an x-ray of an adult show chronic malnouri...</td>\n",
       "      <td>If a person was chronically undernourished thr...</td>\n",
       "      <td>Human Body</td>\n",
       "      <td>2022-12-08 18:28:51</td>\n",
       "      <td>Foxs-In-A-Trenchcoat</td>\n",
       "      <td>426.0</td>\n",
       "      <td>0.91</td>\n",
       "      <td>https://www.reddit.com/r/askscience/comments/z...</td>\n",
       "      <td>Can an x-ray of an adult show chronic malnouri...</td>\n",
       "    </tr>\n",
       "    <tr>\n",
       "      <th>2</th>\n",
       "      <td>2</td>\n",
       "      <td>[META] Bots and AI tools on r/askscience</td>\n",
       "      <td>\\n\\nOver the past few days we have seen a sur...</td>\n",
       "      <td>META</td>\n",
       "      <td>2022-12-08 09:04:25</td>\n",
       "      <td>AskScienceModerator</td>\n",
       "      <td>2218.0</td>\n",
       "      <td>0.92</td>\n",
       "      <td>https://www.reddit.com/r/askscience/comments/z...</td>\n",
       "      <td>[META] Bots and AI tools on r/askscience  \\n\\n...</td>\n",
       "    </tr>\n",
       "    <tr>\n",
       "      <th>3</th>\n",
       "      <td>3</td>\n",
       "      <td>Can you predictably manipulate a magnetic gas?</td>\n",
       "      <td>Does there exist a gas that changes in respons...</td>\n",
       "      <td>Physics</td>\n",
       "      <td>2022-12-08 20:01:53</td>\n",
       "      <td>hufsa7</td>\n",
       "      <td>48.0</td>\n",
       "      <td>0.83</td>\n",
       "      <td>https://www.reddit.com/r/askscience/comments/z...</td>\n",
       "      <td>Can you predictably manipulate a magnetic gas?...</td>\n",
       "    </tr>\n",
       "    <tr>\n",
       "      <th>4</th>\n",
       "      <td>4</td>\n",
       "      <td>Are there cells in humans (or other mammals) t...</td>\n",
       "      <td>NaN</td>\n",
       "      <td>Medicine</td>\n",
       "      <td>2022-12-09 01:11:34</td>\n",
       "      <td>Velym</td>\n",
       "      <td>14.0</td>\n",
       "      <td>0.89</td>\n",
       "      <td>https://www.reddit.com/r/askscience/comments/z...</td>\n",
       "      <td>Are there cells in humans (or other mammals) t...</td>\n",
       "    </tr>\n",
       "    <tr>\n",
       "      <th>...</th>\n",
       "      <td>...</td>\n",
       "      <td>...</td>\n",
       "      <td>...</td>\n",
       "      <td>...</td>\n",
       "      <td>...</td>\n",
       "      <td>...</td>\n",
       "      <td>...</td>\n",
       "      <td>...</td>\n",
       "      <td>...</td>\n",
       "      <td>...</td>\n",
       "    </tr>\n",
       "    <tr>\n",
       "      <th>4200</th>\n",
       "      <td>795</td>\n",
       "      <td>I heard some electron microscopes use gallium....</td>\n",
       "      <td>NaN</td>\n",
       "      <td>Engineering</td>\n",
       "      <td>2022-01-12 17:14:35</td>\n",
       "      <td>Emma_Dale20</td>\n",
       "      <td>6.0</td>\n",
       "      <td>0.70</td>\n",
       "      <td>https://www.reddit.com/r/askscience/comments/s...</td>\n",
       "      <td>I heard some electron microscopes use gallium....</td>\n",
       "    </tr>\n",
       "    <tr>\n",
       "      <th>4201</th>\n",
       "      <td>796</td>\n",
       "      <td>is the spread of COVID typical for a respirato...</td>\n",
       "      <td>i understand that there's no respiratory virus...</td>\n",
       "      <td>COVID-19</td>\n",
       "      <td>2022-01-12 09:39:55</td>\n",
       "      <td>aggasalk</td>\n",
       "      <td>27.0</td>\n",
       "      <td>0.74</td>\n",
       "      <td>https://www.reddit.com/r/askscience/comments/s...</td>\n",
       "      <td>is the spread of COVID typical for a respirato...</td>\n",
       "    </tr>\n",
       "    <tr>\n",
       "      <th>4202</th>\n",
       "      <td>797</td>\n",
       "      <td>What is the technical difference between Cheek...</td>\n",
       "      <td>What are the technical difference(s) between t...</td>\n",
       "      <td>COVID-19</td>\n",
       "      <td>2022-01-12 14:47:28</td>\n",
       "      <td>h110hawk</td>\n",
       "      <td>3.0</td>\n",
       "      <td>0.67</td>\n",
       "      <td>https://www.reddit.com/r/askscience/comments/s...</td>\n",
       "      <td>What is the technical difference between Cheek...</td>\n",
       "    </tr>\n",
       "    <tr>\n",
       "      <th>4203</th>\n",
       "      <td>798</td>\n",
       "      <td>What starts the coagulation cascade during blo...</td>\n",
       "      <td>I understand that stasis of blood increases th...</td>\n",
       "      <td>Human Body</td>\n",
       "      <td>2022-01-12 14:20:26</td>\n",
       "      <td>joegoldbergg</td>\n",
       "      <td>5.0</td>\n",
       "      <td>0.78</td>\n",
       "      <td>https://www.reddit.com/r/askscience/comments/s...</td>\n",
       "      <td>What starts the coagulation cascade during blo...</td>\n",
       "    </tr>\n",
       "    <tr>\n",
       "      <th>4204</th>\n",
       "      <td>799</td>\n",
       "      <td>Does the light/energy radiate from the sun at ...</td>\n",
       "      <td>NaN</td>\n",
       "      <td>Astronomy</td>\n",
       "      <td>2022-01-11 08:14:49</td>\n",
       "      <td>trinerr</td>\n",
       "      <td>693.0</td>\n",
       "      <td>0.93</td>\n",
       "      <td>https://www.reddit.com/r/askscience/comments/s...</td>\n",
       "      <td>Does the light/energy radiate from the sun at ...</td>\n",
       "    </tr>\n",
       "  </tbody>\n",
       "</table>\n",
       "<p>4205 rows × 10 columns</p>\n",
       "</div>"
      ],
      "text/plain": [
       "      Unnamed: 0                                              title  \\\n",
       "0              0  Post viral cough: why does it get worse after ...   \n",
       "1              1  Can an x-ray of an adult show chronic malnouri...   \n",
       "2              2           [META] Bots and AI tools on r/askscience   \n",
       "3              3     Can you predictably manipulate a magnetic gas?   \n",
       "4              4  Are there cells in humans (or other mammals) t...   \n",
       "...          ...                                                ...   \n",
       "4200         795  I heard some electron microscopes use gallium....   \n",
       "4201         796  is the spread of COVID typical for a respirato...   \n",
       "4202         797  What is the technical difference between Cheek...   \n",
       "4203         798  What starts the coagulation cascade during blo...   \n",
       "4204         799  Does the light/energy radiate from the sun at ...   \n",
       "\n",
       "                                                   body          tag  \\\n",
       "0     Tl;dr: why is your cough during an upper respi...   Human Body   \n",
       "1     If a person was chronically undernourished thr...   Human Body   \n",
       "2      \\n\\nOver the past few days we have seen a sur...         META   \n",
       "3     Does there exist a gas that changes in respons...      Physics   \n",
       "4                                                   NaN     Medicine   \n",
       "...                                                 ...          ...   \n",
       "4200                                                NaN  Engineering   \n",
       "4201  i understand that there's no respiratory virus...     COVID-19   \n",
       "4202  What are the technical difference(s) between t...     COVID-19   \n",
       "4203  I understand that stasis of blood increases th...   Human Body   \n",
       "4204                                                NaN    Astronomy   \n",
       "\n",
       "                 datetime                author   score  upvote_ratio  \\\n",
       "0     2022-12-09 02:52:07    CarboniferousCreek  1343.0          0.93   \n",
       "1     2022-12-08 18:28:51  Foxs-In-A-Trenchcoat   426.0          0.91   \n",
       "2     2022-12-08 09:04:25   AskScienceModerator  2218.0          0.92   \n",
       "3     2022-12-08 20:01:53                hufsa7    48.0          0.83   \n",
       "4     2022-12-09 01:11:34                 Velym    14.0          0.89   \n",
       "...                   ...                   ...     ...           ...   \n",
       "4200  2022-01-12 17:14:35           Emma_Dale20     6.0          0.70   \n",
       "4201  2022-01-12 09:39:55              aggasalk    27.0          0.74   \n",
       "4202  2022-01-12 14:47:28              h110hawk     3.0          0.67   \n",
       "4203  2022-01-12 14:20:26          joegoldbergg     5.0          0.78   \n",
       "4204  2022-01-11 08:14:49               trinerr   693.0          0.93   \n",
       "\n",
       "                                                    url  \\\n",
       "0     https://www.reddit.com/r/askscience/comments/z...   \n",
       "1     https://www.reddit.com/r/askscience/comments/z...   \n",
       "2     https://www.reddit.com/r/askscience/comments/z...   \n",
       "3     https://www.reddit.com/r/askscience/comments/z...   \n",
       "4     https://www.reddit.com/r/askscience/comments/z...   \n",
       "...                                                 ...   \n",
       "4200  https://www.reddit.com/r/askscience/comments/s...   \n",
       "4201  https://www.reddit.com/r/askscience/comments/s...   \n",
       "4202  https://www.reddit.com/r/askscience/comments/s...   \n",
       "4203  https://www.reddit.com/r/askscience/comments/s...   \n",
       "4204  https://www.reddit.com/r/askscience/comments/s...   \n",
       "\n",
       "                                              full_text  \n",
       "0     Post viral cough: why does it get worse after ...  \n",
       "1     Can an x-ray of an adult show chronic malnouri...  \n",
       "2     [META] Bots and AI tools on r/askscience  \\n\\n...  \n",
       "3     Can you predictably manipulate a magnetic gas?...  \n",
       "4     Are there cells in humans (or other mammals) t...  \n",
       "...                                                 ...  \n",
       "4200  I heard some electron microscopes use gallium....  \n",
       "4201  is the spread of COVID typical for a respirato...  \n",
       "4202  What is the technical difference between Cheek...  \n",
       "4203  What starts the coagulation cascade during blo...  \n",
       "4204  Does the light/energy radiate from the sun at ...  \n",
       "\n",
       "[4205 rows x 10 columns]"
      ]
     },
     "execution_count": 87,
     "metadata": {},
     "output_type": "execute_result"
    }
   ],
   "source": [
    "df['full_text'] = df['title'].fillna('') + ' ' + df['body'].fillna('')\n",
    "df"
   ]
  },
  {
   "cell_type": "code",
   "execution_count": 11,
   "id": "24fdaa21",
   "metadata": {},
   "outputs": [
    {
     "name": "stdout",
     "output_type": "stream",
     "text": [
      "<class 'pandas.core.frame.DataFrame'>\n",
      "RangeIndex: 4205 entries, 0 to 4204\n",
      "Data columns (total 10 columns):\n",
      " #   Column        Non-Null Count  Dtype  \n",
      "---  ------        --------------  -----  \n",
      " 0   Unnamed: 0    4205 non-null   int64  \n",
      " 1   title         4205 non-null   object \n",
      " 2   body          2492 non-null   object \n",
      " 3   tag           4011 non-null   object \n",
      " 4   datetime      4205 non-null   object \n",
      " 5   author        4205 non-null   object \n",
      " 6   score         4205 non-null   float64\n",
      " 7   upvote_ratio  4205 non-null   float64\n",
      " 8   url           4205 non-null   object \n",
      " 9   full_text     4205 non-null   object \n",
      "dtypes: float64(2), int64(1), object(7)\n",
      "memory usage: 328.6+ KB\n"
     ]
    }
   ],
   "source": [
    "df.info()"
   ]
  },
  {
   "cell_type": "code",
   "execution_count": 88,
   "id": "e807eaee",
   "metadata": {},
   "outputs": [
    {
     "data": {
      "image/png": "[encoded data removed]",
      "text/plain": [
       "<Figure size 1200x800 with 1 Axes>"
      ]
     },
     "metadata": {
      "image/png": {
       "height": 666,
       "width": 1014
      }
     },
     "output_type": "display_data"
    }
   ],
   "source": [
    "plt.boxplot(y_train)  # Check if `y` has outliers\n",
    "plt.show()"
   ]
  },
  {
   "cell_type": "markdown",
   "id": "c410a025",
   "metadata": {},
   "source": [
    "There might be some outliers in the score, specially the ones that are above ~20000. Let's have a closer look at them:"
   ]
  },
  {
   "cell_type": "code",
   "execution_count": 89,
   "id": "0c1986d7",
   "metadata": {
    "scrolled": true
   },
   "outputs": [
    {
     "data": {
      "text/plain": [
       "51"
      ]
     },
     "execution_count": 89,
     "metadata": {},
     "output_type": "execute_result"
    }
   ],
   "source": [
    "df[df['score']>20000].shape[0]"
   ]
  },
  {
   "cell_type": "markdown",
   "id": "5bf37824",
   "metadata": {},
   "source": [
    "A small percentage of the data (51/4205) have very large scores. So I will drop these rows"
   ]
  },
  {
   "cell_type": "code",
   "execution_count": 91,
   "id": "23536bd5",
   "metadata": {},
   "outputs": [],
   "source": [
    "df=df[df['score']<20000]"
   ]
  },
  {
   "cell_type": "code",
   "execution_count": 92,
   "id": "cee80831",
   "metadata": {},
   "outputs": [
    {
     "data": {
      "text/plain": [
       "author\n",
       "DELETED                244\n",
       "AskScienceModerator     44\n",
       "inquilinekea            12\n",
       "PHealthy                 6\n",
       "Toorelad                 6\n",
       "                      ... \n",
       "Fit-Molasses4305         1\n",
       "lgrey4252                1\n",
       "derefr                   1\n",
       "EremiticFerret           1\n",
       "joegoldbergg             1\n",
       "Name: count, Length: 3287, dtype: int64"
      ]
     },
     "execution_count": 92,
     "metadata": {},
     "output_type": "execute_result"
    }
   ],
   "source": [
    "df['author'].value_counts()"
   ]
  },
  {
   "cell_type": "markdown",
   "id": "d7fcaef2",
   "metadata": {},
   "source": [
    "The author data is sparse and specifically, DELETED authors has the highest number of occurances. Therefore, I will drop this column. Also, I wil dropped the first column (Unnamed: 0) and URL columns, as they do not provide usefull information to the model."
   ]
  },
  {
   "cell_type": "code",
   "execution_count": 93,
   "id": "c382aff6",
   "metadata": {},
   "outputs": [],
   "source": [
    "X = df.drop(columns=['score','Unnamed: 0','title','body','url','author'])\n",
    "y = df['score']"
   ]
  },
  {
   "cell_type": "code",
   "execution_count": 94,
   "id": "5e319cc6",
   "metadata": {
    "scrolled": true
   },
   "outputs": [
    {
     "data": {
      "text/html": [
       "<div>\n",
       "<style scoped>\n",
       "    .dataframe tbody tr th:only-of-type {\n",
       "        vertical-align: middle;\n",
       "    }\n",
       "\n",
       "    .dataframe tbody tr th {\n",
       "        vertical-align: top;\n",
       "    }\n",
       "\n",
       "    .dataframe thead th {\n",
       "        text-align: right;\n",
       "    }\n",
       "</style>\n",
       "<table border=\"1\" class=\"dataframe\">\n",
       "  <thead>\n",
       "    <tr style=\"text-align: right;\">\n",
       "      <th></th>\n",
       "      <th>tag</th>\n",
       "      <th>datetime</th>\n",
       "      <th>upvote_ratio</th>\n",
       "      <th>full_text</th>\n",
       "    </tr>\n",
       "  </thead>\n",
       "  <tbody>\n",
       "    <tr>\n",
       "      <th>0</th>\n",
       "      <td>Human Body</td>\n",
       "      <td>2022-12-09 02:52:07</td>\n",
       "      <td>0.93</td>\n",
       "      <td>Post viral cough: why does it get worse after ...</td>\n",
       "    </tr>\n",
       "    <tr>\n",
       "      <th>1</th>\n",
       "      <td>Human Body</td>\n",
       "      <td>2022-12-08 18:28:51</td>\n",
       "      <td>0.91</td>\n",
       "      <td>Can an x-ray of an adult show chronic malnouri...</td>\n",
       "    </tr>\n",
       "    <tr>\n",
       "      <th>2</th>\n",
       "      <td>META</td>\n",
       "      <td>2022-12-08 09:04:25</td>\n",
       "      <td>0.92</td>\n",
       "      <td>[META] Bots and AI tools on r/askscience  \\n\\n...</td>\n",
       "    </tr>\n",
       "    <tr>\n",
       "      <th>3</th>\n",
       "      <td>Physics</td>\n",
       "      <td>2022-12-08 20:01:53</td>\n",
       "      <td>0.83</td>\n",
       "      <td>Can you predictably manipulate a magnetic gas?...</td>\n",
       "    </tr>\n",
       "    <tr>\n",
       "      <th>4</th>\n",
       "      <td>Medicine</td>\n",
       "      <td>2022-12-09 01:11:34</td>\n",
       "      <td>0.89</td>\n",
       "      <td>Are there cells in humans (or other mammals) t...</td>\n",
       "    </tr>\n",
       "    <tr>\n",
       "      <th>...</th>\n",
       "      <td>...</td>\n",
       "      <td>...</td>\n",
       "      <td>...</td>\n",
       "      <td>...</td>\n",
       "    </tr>\n",
       "    <tr>\n",
       "      <th>4200</th>\n",
       "      <td>Engineering</td>\n",
       "      <td>2022-01-12 17:14:35</td>\n",
       "      <td>0.70</td>\n",
       "      <td>I heard some electron microscopes use gallium....</td>\n",
       "    </tr>\n",
       "    <tr>\n",
       "      <th>4201</th>\n",
       "      <td>COVID-19</td>\n",
       "      <td>2022-01-12 09:39:55</td>\n",
       "      <td>0.74</td>\n",
       "      <td>is the spread of COVID typical for a respirato...</td>\n",
       "    </tr>\n",
       "    <tr>\n",
       "      <th>4202</th>\n",
       "      <td>COVID-19</td>\n",
       "      <td>2022-01-12 14:47:28</td>\n",
       "      <td>0.67</td>\n",
       "      <td>What is the technical difference between Cheek...</td>\n",
       "    </tr>\n",
       "    <tr>\n",
       "      <th>4203</th>\n",
       "      <td>Human Body</td>\n",
       "      <td>2022-01-12 14:20:26</td>\n",
       "      <td>0.78</td>\n",
       "      <td>What starts the coagulation cascade during blo...</td>\n",
       "    </tr>\n",
       "    <tr>\n",
       "      <th>4204</th>\n",
       "      <td>Astronomy</td>\n",
       "      <td>2022-01-11 08:14:49</td>\n",
       "      <td>0.93</td>\n",
       "      <td>Does the light/energy radiate from the sun at ...</td>\n",
       "    </tr>\n",
       "  </tbody>\n",
       "</table>\n",
       "<p>4154 rows × 4 columns</p>\n",
       "</div>"
      ],
      "text/plain": [
       "              tag             datetime  upvote_ratio  \\\n",
       "0      Human Body  2022-12-09 02:52:07          0.93   \n",
       "1      Human Body  2022-12-08 18:28:51          0.91   \n",
       "2            META  2022-12-08 09:04:25          0.92   \n",
       "3         Physics  2022-12-08 20:01:53          0.83   \n",
       "4        Medicine  2022-12-09 01:11:34          0.89   \n",
       "...           ...                  ...           ...   \n",
       "4200  Engineering  2022-01-12 17:14:35          0.70   \n",
       "4201     COVID-19  2022-01-12 09:39:55          0.74   \n",
       "4202     COVID-19  2022-01-12 14:47:28          0.67   \n",
       "4203   Human Body  2022-01-12 14:20:26          0.78   \n",
       "4204    Astronomy  2022-01-11 08:14:49          0.93   \n",
       "\n",
       "                                              full_text  \n",
       "0     Post viral cough: why does it get worse after ...  \n",
       "1     Can an x-ray of an adult show chronic malnouri...  \n",
       "2     [META] Bots and AI tools on r/askscience  \\n\\n...  \n",
       "3     Can you predictably manipulate a magnetic gas?...  \n",
       "4     Are there cells in humans (or other mammals) t...  \n",
       "...                                                 ...  \n",
       "4200  I heard some electron microscopes use gallium....  \n",
       "4201  is the spread of COVID typical for a respirato...  \n",
       "4202  What is the technical difference between Cheek...  \n",
       "4203  What starts the coagulation cascade during blo...  \n",
       "4204  Does the light/energy radiate from the sun at ...  \n",
       "\n",
       "[4154 rows x 4 columns]"
      ]
     },
     "execution_count": 94,
     "metadata": {},
     "output_type": "execute_result"
    }
   ],
   "source": [
    "X"
   ]
  },
  {
   "cell_type": "code",
   "execution_count": 95,
   "id": "79b93e10",
   "metadata": {},
   "outputs": [
    {
     "data": {
      "text/plain": [
       "tag\n",
       "Biology                        714\n",
       "Physics                        621\n",
       "Human Body                     456\n",
       "Medicine                       335\n",
       "Earth Sciences                 311\n",
       "Astronomy                      267\n",
       "Chemistry                      228\n",
       "COVID-19                       213\n",
       "Engineering                    186\n",
       "Planetary Sci.                 110\n",
       "Neuroscience                   107\n",
       "Mathematics                    102\n",
       "Psychology                      90\n",
       "Computing                       56\n",
       "Paleontology                    47\n",
       "Linguistics                     34\n",
       "Anthropology                    21\n",
       "Social Science                  18\n",
       "Archaeology                     15\n",
       "Economics                       14\n",
       "Interdisciplinary                3\n",
       "  Linguistics                    2\n",
       "Earth Sciences and Biology       2\n",
       "Ecology                          2\n",
       "CERN AMA                         1\n",
       "Dog Cognition AMA                1\n",
       "Materials Science                1\n",
       "First image of a black hole      1\n",
       "Political Science                1\n",
       "META                             1\n",
       "Food                             1\n",
       "Name: count, dtype: int64"
      ]
     },
     "execution_count": 95,
     "metadata": {},
     "output_type": "execute_result"
    }
   ],
   "source": [
    "X['tag'].value_counts()"
   ]
  },
  {
   "cell_type": "markdown",
   "id": "479a5d36",
   "metadata": {},
   "source": [
    "I will treat each variable type differently. \n",
    "\n",
    "1- For texts, I can use TF-IDF or BERT to embed them. Here I will be using BERT (but given more time, I would definately try other methods as well).\n",
    "\n",
    "2- For categorial variable (tag), I will use one-hot encoding.\n",
    "\n",
    "3- I will also convert datetime into separate day, week, etc features."
   ]
  },
  {
   "cell_type": "code",
   "execution_count": 32,
   "id": "fd80813c",
   "metadata": {},
   "outputs": [
    {
     "data": {
      "application/vnd.jupyter.widget-view+json": {
       "model_id": "9d04e96cea024426a0033b95f7bb8678",
       "version_major": 2,
       "version_minor": 0
      },
      "text/plain": [
       "modules.json:   0%|          | 0.00/229 [00:00<?, ?B/s]"
      ]
     },
     "metadata": {},
     "output_type": "display_data"
    },
    {
     "name": "stderr",
     "output_type": "stream",
     "text": [
      "C:\\Users\\alire\\anaconda3\\Lib\\site-packages\\huggingface_hub\\file_download.py:140: UserWarning: `huggingface_hub` cache-system uses symlinks by default to efficiently store duplicated files but your machine does not support them in C:\\Users\\alire\\.cache\\huggingface\\hub\\models--sentence-transformers--paraphrase-MiniLM-L6-v2. Caching files will still work but in a degraded version that might require more space on your disk. This warning can be disabled by setting the `HF_HUB_DISABLE_SYMLINKS_WARNING` environment variable. For more details, see https://huggingface.co/docs/huggingface_hub/how-to-cache#limitations.\n",
      "To support symlinks on Windows, you either need to activate Developer Mode or to run Python as an administrator. In order to activate developer mode, see this article: https://docs.microsoft.com/en-us/windows/apps/get-started/enable-your-device-for-development\n",
      "  warnings.warn(message)\n"
     ]
    },
    {
     "data": {
      "application/vnd.jupyter.widget-view+json": {
       "model_id": "69394acf7096478aa64745e059cceaeb",
       "version_major": 2,
       "version_minor": 0
      },
      "text/plain": [
       "config_sentence_transformers.json:   0%|          | 0.00/122 [00:00<?, ?B/s]"
      ]
     },
     "metadata": {},
     "output_type": "display_data"
    },
    {
     "data": {
      "application/vnd.jupyter.widget-view+json": {
       "model_id": "0f13913eb36a4a0eb071165011e8513d",
       "version_major": 2,
       "version_minor": 0
      },
      "text/plain": [
       "README.md:   0%|          | 0.00/3.73k [00:00<?, ?B/s]"
      ]
     },
     "metadata": {},
     "output_type": "display_data"
    },
    {
     "data": {
      "application/vnd.jupyter.widget-view+json": {
       "model_id": "aa9acd24b8974164a51782e6072a6543",
       "version_major": 2,
       "version_minor": 0
      },
      "text/plain": [
       "sentence_bert_config.json:   0%|          | 0.00/53.0 [00:00<?, ?B/s]"
      ]
     },
     "metadata": {},
     "output_type": "display_data"
    },
    {
     "data": {
      "application/vnd.jupyter.widget-view+json": {
       "model_id": "829f3665a6bb4f85a792c7c9b2a29ba4",
       "version_major": 2,
       "version_minor": 0
      },
      "text/plain": [
       "config.json:   0%|          | 0.00/629 [00:00<?, ?B/s]"
      ]
     },
     "metadata": {},
     "output_type": "display_data"
    },
    {
     "data": {
      "application/vnd.jupyter.widget-view+json": {
       "model_id": "0c38fb35a9d74f4a8a6b5dbf18f0cf1e",
       "version_major": 2,
       "version_minor": 0
      },
      "text/plain": [
       "model.safetensors:   0%|          | 0.00/90.9M [00:00<?, ?B/s]"
      ]
     },
     "metadata": {},
     "output_type": "display_data"
    },
    {
     "data": {
      "application/vnd.jupyter.widget-view+json": {
       "model_id": "17a41bd92b294969b0c2c553d5d87782",
       "version_major": 2,
       "version_minor": 0
      },
      "text/plain": [
       "tokenizer_config.json:   0%|          | 0.00/314 [00:00<?, ?B/s]"
      ]
     },
     "metadata": {},
     "output_type": "display_data"
    },
    {
     "data": {
      "application/vnd.jupyter.widget-view+json": {
       "model_id": "bfccdfb76fb44e5a86f58b9178ca8c61",
       "version_major": 2,
       "version_minor": 0
      },
      "text/plain": [
       "vocab.txt:   0%|          | 0.00/232k [00:00<?, ?B/s]"
      ]
     },
     "metadata": {},
     "output_type": "display_data"
    },
    {
     "data": {
      "application/vnd.jupyter.widget-view+json": {
       "model_id": "2e332a1361c848bf9c33bee6b14a7eff",
       "version_major": 2,
       "version_minor": 0
      },
      "text/plain": [
       "tokenizer.json:   0%|          | 0.00/466k [00:00<?, ?B/s]"
      ]
     },
     "metadata": {},
     "output_type": "display_data"
    },
    {
     "data": {
      "application/vnd.jupyter.widget-view+json": {
       "model_id": "c3d56a59885d46ecaab508db7e6a6b9e",
       "version_major": 2,
       "version_minor": 0
      },
      "text/plain": [
       "special_tokens_map.json:   0%|          | 0.00/112 [00:00<?, ?B/s]"
      ]
     },
     "metadata": {},
     "output_type": "display_data"
    },
    {
     "data": {
      "application/vnd.jupyter.widget-view+json": {
       "model_id": "735bcde68e7b4a2f8662643d9ada67cd",
       "version_major": 2,
       "version_minor": 0
      },
      "text/plain": [
       "1_Pooling%2Fconfig.json:   0%|          | 0.00/190 [00:00<?, ?B/s]"
      ]
     },
     "metadata": {},
     "output_type": "display_data"
    }
   ],
   "source": [
    "#importing BERT model\n",
    "\n",
    "model = SentenceTransformer('sentence-transformers/paraphrase-MiniLM-L6-v2')"
   ]
  },
  {
   "cell_type": "code",
   "execution_count": 96,
   "id": "54c3d97f",
   "metadata": {},
   "outputs": [],
   "source": [
    "text_column = 'full_text'  \n",
    "categorical_column = 'tag' \n",
    "datetime_column = 'datetime'  \n",
    "numerical_column = 'upvote_ratio'  \n",
    "target_column = 'score' "
   ]
  },
  {
   "cell_type": "code",
   "execution_count": 97,
   "id": "2934043b",
   "metadata": {},
   "outputs": [],
   "source": [
    "df['datetime'] = pd.to_datetime(df['datetime'])\n",
    "df['hour'] = df['datetime'].dt.hour\n",
    "df['day'] = df['datetime'].dt.day\n",
    "df['month'] = df['datetime'].dt.month\n",
    "df['weekday'] = df['datetime'].dt.weekday"
   ]
  },
  {
   "cell_type": "code",
   "execution_count": 98,
   "id": "d900d653",
   "metadata": {},
   "outputs": [],
   "source": [
    "#Treating categorial column\n",
    "encoder = OneHotEncoder(sparse_output=False, handle_unknown='ignore')\n",
    "tag_encoded = encoder.fit_transform(df[[categorical_column]])"
   ]
  },
  {
   "cell_type": "code",
   "execution_count": 99,
   "id": "44cc5d23",
   "metadata": {},
   "outputs": [],
   "source": [
    "#Treating text column\n",
    "X_text_embedded = np.array([model.encode(text) for text in df['full_text']])"
   ]
  },
  {
   "cell_type": "code",
   "execution_count": 100,
   "id": "8d5295d2",
   "metadata": {},
   "outputs": [],
   "source": [
    "#Treating numerical column\n",
    "scaler = StandardScaler()\n",
    "numerical_features = df[[numerical_column, 'hour', 'day', 'month', 'weekday']]\n",
    "X_numeric_scaled = scaler.fit_transform(numerical_features)"
   ]
  },
  {
   "cell_type": "code",
   "execution_count": 101,
   "id": "11327bf5",
   "metadata": {},
   "outputs": [],
   "source": [
    "# Combine all features into final dataset\n",
    "X_final = np.hstack((X_text_embedded, tag_encoded,X_numeric_scaled))\n",
    "y = df[target_column]"
   ]
  },
  {
   "cell_type": "code",
   "execution_count": 102,
   "id": "670e9037",
   "metadata": {},
   "outputs": [
    {
     "data": {
      "text/plain": [
       "array([[-0.00568251,  0.7802254 ,  0.2247732 , ..., -0.73023146,\n",
       "         1.4820339 ,  0.48969435],\n",
       "       [ 0.05821616,  0.77728862, -0.1449791 , ..., -0.84388382,\n",
       "         1.4820339 , -0.00296497],\n",
       "       [ 0.12916711,  0.57958782,  0.3642295 , ..., -0.84388382,\n",
       "         1.4820339 , -0.00296497],\n",
       "       ...,\n",
       "       [-0.01103895,  0.96677649, -0.54587567, ..., -0.38927438,\n",
       "        -1.3215288 , -0.49562429],\n",
       "       [-0.16338892, -0.17184392,  0.50531566, ..., -0.38927438,\n",
       "        -1.3215288 , -0.49562429],\n",
       "       [ 1.01259363, -0.40983447,  0.72002631, ..., -0.50292674,\n",
       "        -1.3215288 , -0.98828361]])"
      ]
     },
     "execution_count": 102,
     "metadata": {},
     "output_type": "execute_result"
    }
   ],
   "source": [
    "X_final"
   ]
  },
  {
   "cell_type": "code",
   "execution_count": 103,
   "id": "400df896",
   "metadata": {},
   "outputs": [],
   "source": [
    "#splitting the data into train and test and creating a random forest model\n",
    "X_train, X_test, y_train, y_test = train_test_split(X_final, y, test_size=0.2, random_state=42)\n"
   ]
  },
  {
   "cell_type": "code",
   "execution_count": 104,
   "id": "1f477fd4",
   "metadata": {},
   "outputs": [
    {
     "data": {
      "text/html": [
       "<style>#sk-container-id-3 {color: black;background-color: white;}#sk-container-id-3 pre{padding: 0;}#sk-container-id-3 div.sk-toggleable {background-color: white;}#sk-container-id-3 label.sk-toggleable__label {cursor: pointer;display: block;width: 100%;margin-bottom: 0;padding: 0.3em;box-sizing: border-box;text-align: center;}#sk-container-id-3 label.sk-toggleable__label-arrow:before {content: \"▸\";float: left;margin-right: 0.25em;color: #696969;}#sk-container-id-3 label.sk-toggleable__label-arrow:hover:before {color: black;}#sk-container-id-3 div.sk-estimator:hover label.sk-toggleable__label-arrow:before {color: black;}#sk-container-id-3 div.sk-toggleable__content {max-height: 0;max-width: 0;overflow: hidden;text-align: left;background-color: #f0f8ff;}#sk-container-id-3 div.sk-toggleable__content pre {margin: 0.2em;color: black;border-radius: 0.25em;background-color: #f0f8ff;}#sk-container-id-3 input.sk-toggleable__control:checked~div.sk-toggleable__content {max-height: 200px;max-width: 100%;overflow: auto;}#sk-container-id-3 input.sk-toggleable__control:checked~label.sk-toggleable__label-arrow:before {content: \"▾\";}#sk-container-id-3 div.sk-estimator input.sk-toggleable__control:checked~label.sk-toggleable__label {background-color: #d4ebff;}#sk-container-id-3 div.sk-label input.sk-toggleable__control:checked~label.sk-toggleable__label {background-color: #d4ebff;}#sk-container-id-3 input.sk-hidden--visually {border: 0;clip: rect(1px 1px 1px 1px);clip: rect(1px, 1px, 1px, 1px);height: 1px;margin: -1px;overflow: hidden;padding: 0;position: absolute;width: 1px;}#sk-container-id-3 div.sk-estimator {font-family: monospace;background-color: #f0f8ff;border: 1px dotted black;border-radius: 0.25em;box-sizing: border-box;margin-bottom: 0.5em;}#sk-container-id-3 div.sk-estimator:hover {background-color: #d4ebff;}#sk-container-id-3 div.sk-parallel-item::after {content: \"\";width: 100%;border-bottom: 1px solid gray;flex-grow: 1;}#sk-container-id-3 div.sk-label:hover label.sk-toggleable__label {background-color: #d4ebff;}#sk-container-id-3 div.sk-serial::before {content: \"\";position: absolute;border-left: 1px solid gray;box-sizing: border-box;top: 0;bottom: 0;left: 50%;z-index: 0;}#sk-container-id-3 div.sk-serial {display: flex;flex-direction: column;align-items: center;background-color: white;padding-right: 0.2em;padding-left: 0.2em;position: relative;}#sk-container-id-3 div.sk-item {position: relative;z-index: 1;}#sk-container-id-3 div.sk-parallel {display: flex;align-items: stretch;justify-content: center;background-color: white;position: relative;}#sk-container-id-3 div.sk-item::before, #sk-container-id-3 div.sk-parallel-item::before {content: \"\";position: absolute;border-left: 1px solid gray;box-sizing: border-box;top: 0;bottom: 0;left: 50%;z-index: -1;}#sk-container-id-3 div.sk-parallel-item {display: flex;flex-direction: column;z-index: 1;position: relative;background-color: white;}#sk-container-id-3 div.sk-parallel-item:first-child::after {align-self: flex-end;width: 50%;}#sk-container-id-3 div.sk-parallel-item:last-child::after {align-self: flex-start;width: 50%;}#sk-container-id-3 div.sk-parallel-item:only-child::after {width: 0;}#sk-container-id-3 div.sk-dashed-wrapped {border: 1px dashed gray;margin: 0 0.4em 0.5em 0.4em;box-sizing: border-box;padding-bottom: 0.4em;background-color: white;}#sk-container-id-3 div.sk-label label {font-family: monospace;font-weight: bold;display: inline-block;line-height: 1.2em;}#sk-container-id-3 div.sk-label-container {text-align: center;}#sk-container-id-3 div.sk-container {/* jupyter's `normalize.less` sets `[hidden] { display: none; }` but bootstrap.min.css set `[hidden] { display: none !important; }` so we also need the `!important` here to be able to override the default hidden behavior on the sphinx rendered scikit-learn.org. See: https://github.com/scikit-learn/scikit-learn/issues/21755 */display: inline-block !important;position: relative;}#sk-container-id-3 div.sk-text-repr-fallback {display: none;}</style><div id=\"sk-container-id-3\" class=\"sk-top-container\"><div class=\"sk-text-repr-fallback\"><pre>RandomForestRegressor(random_state=42)</pre><b>In a Jupyter environment, please rerun this cell to show the HTML representation or trust the notebook. <br />On GitHub, the HTML representation is unable to render, please try loading this page with nbviewer.org.</b></div><div class=\"sk-container\" hidden><div class=\"sk-item\"><div class=\"sk-estimator sk-toggleable\"><input class=\"sk-toggleable__control sk-hidden--visually\" id=\"sk-estimator-id-3\" type=\"checkbox\" checked><label for=\"sk-estimator-id-3\" class=\"sk-toggleable__label sk-toggleable__label-arrow\">RandomForestRegressor</label><div class=\"sk-toggleable__content\"><pre>RandomForestRegressor(random_state=42)</pre></div></div></div></div></div>"
      ],
      "text/plain": [
       "RandomForestRegressor(random_state=42)"
      ]
     },
     "execution_count": 104,
     "metadata": {},
     "output_type": "execute_result"
    }
   ],
   "source": [
    "rf = RandomForestRegressor(n_estimators=100, random_state=42)\n",
    "rf.fit(X_train, y_train)"
   ]
  },
  {
   "cell_type": "code",
   "execution_count": 108,
   "id": "2228d851",
   "metadata": {},
   "outputs": [],
   "source": [
    "y_pred = rf.predict(X_test)\n"
   ]
  },
  {
   "cell_type": "code",
   "execution_count": 110,
   "id": "7f90ab36",
   "metadata": {},
   "outputs": [
    {
     "name": "stdout",
     "output_type": "stream",
     "text": [
      "Number of zeros in y_test: 91\n"
     ]
    }
   ],
   "source": [
    "print(\"Number of zeros in y_test:\", (y_test == 0).sum())\n"
   ]
  },
  {
   "cell_type": "markdown",
   "id": "1267954f",
   "metadata": {},
   "source": [
    "Since there are zeros in the Score column, I will modify the MAPE function to account for this:"
   ]
  },
  {
   "cell_type": "code",
   "execution_count": 111,
   "id": "5ec0c627",
   "metadata": {},
   "outputs": [
    {
     "name": "stdout",
     "output_type": "stream",
     "text": [
      "MAPE: 16389599682975.80%\n"
     ]
    }
   ],
   "source": [
    "def safe_mape(y_true, y_pred):\n",
    "    y_true, y_pred = np.array(y_true), np.array(y_pred)\n",
    "    return np.mean(np.abs((y_true - y_pred) / np.maximum(y_true, 1e-10))) * 100  # Avoid division by zero\n",
    "\n",
    "mape = safe_mape(y_test, y_pred)\n",
    "print(f\"MAPE: {mape:.2f}%\")"
   ]
  },
  {
   "cell_type": "markdown",
   "id": "ba3bd7eb",
   "metadata": {},
   "source": [
    "It is observed that the MAPE value is very large and not acceptable. In the absence of time, I did not fully check the assumptions of regression, which needs to be done. There might be multicolinearity or heteroscedasticity, which need to be checked.\n",
    "\n",
    "Also, outliers in other features need to be checked."
   ]
  },
  {
   "cell_type": "code",
   "execution_count": null,
   "id": "3d4156df",
   "metadata": {},
   "outputs": [],
   "source": []
  }
 ],
 "metadata": {
  "kernelspec": {
   "display_name": "Python 3 (ipykernel)",
   "language": "python",
   "name": "python3"
  },
  "language_info": {
   "codemirror_mode": {
    "name": "ipython",
    "version": 3
   },
   "file_extension": ".py",
   "mimetype": "text/x-python",
   "name": "python",
   "nbconvert_exporter": "python",
   "pygments_lexer": "ipython3",
   "version": "3.11.7"
  }
 },
 "nbformat": 4,
 "nbformat_minor": 5
}
